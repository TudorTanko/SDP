{
 "cells": [
  {
   "cell_type": "code",
   "execution_count": 1,
   "id": "a4c8ecc7",
   "metadata": {},
   "outputs": [
    {
     "name": "stdout",
     "output_type": "stream",
     "text": [
      "[1, ['test1', 'test2'], [7, 8], 10]\n",
      "{'month': 2, 'day': 13, 'hours': 10}\n",
      "('test', 4, 5, 6)\n"
     ]
    },
    {
     "ename": "NameError",
     "evalue": "name 't' is not defined",
     "output_type": "error",
     "traceback": [
      "\u001b[1;31m---------------------------------------------------------------------------\u001b[0m",
      "\u001b[1;31mNameError\u001b[0m                                 Traceback (most recent call last)",
      "Cell \u001b[1;32mIn[1], line 8\u001b[0m\n\u001b[0;32m      6\u001b[0m \u001b[38;5;28mprint\u001b[39m(t1)\n\u001b[0;32m      7\u001b[0m t2 \u001b[38;5;241m=\u001b[39m \u001b[38;5;28mtuple\u001b[39m (d)\n\u001b[1;32m----> 8\u001b[0m \u001b[38;5;28mprint\u001b[39m(\u001b[43mt\u001b[49m)\n\u001b[0;32m      9\u001b[0m t3 \u001b[38;5;241m=\u001b[39m \u001b[38;5;28mtuple\u001b[39m(\u001b[38;5;124m'\u001b[39m\u001b[38;5;124mtest\u001b[39m\u001b[38;5;124m'\u001b[39m)\n\u001b[0;32m     10\u001b[0m \u001b[38;5;28mprint\u001b[39m(t3)\n",
      "\u001b[1;31mNameError\u001b[0m: name 't' is not defined"
     ]
    }
   ],
   "source": [
    "l = [1, ['test1', 'test2'], [7, 8], 10]\n",
    "print(l)\n",
    "d  = dict(month = 2, day = 13, hours = 10, )\n",
    "print(d)\n",
    "t1 = ('test', 4, 5, 6)\n",
    "print(t1)\n",
    "t2 = tuple (d)\n",
    "print(t)\n",
    "t3 = tuple('test')\n",
    "print(t3)\n"
   ]
  },
  {
   "cell_type": "code",
   "execution_count": null,
   "id": "89176a35",
   "metadata": {},
   "outputs": [],
   "source": [
    "\n",
    "from collections import namedtuple\n",
    "Student = namedtuple('Student', ['nume', 'test1', 'test2', 'examen'])\n",
    "S = Student('Ionel', '6', '7', '7')\n",
    "print(S[1])\n",
    "print(S.nume)\n"
   ]
  },
  {
   "cell_type": "code",
   "execution_count": 2,
   "id": "smart-strength",
   "metadata": {},
   "outputs": [
    {
     "data": {
      "text/plain": [
       "(2121513710064, float)"
      ]
     },
     "execution_count": 2,
     "metadata": {},
     "output_type": "execute_result"
    }
   ],
   "source": [
    "x = 50 + 0.1\n",
    "id(x), type(x)"
   ]
  },
  {
   "cell_type": "code",
   "execution_count": 3,
   "id": "offensive-leone",
   "metadata": {},
   "outputs": [
    {
     "ename": "TypeError",
     "evalue": "can only concatenate str (not \"int\") to str",
     "output_type": "error",
     "traceback": [
      "\u001b[1;31m---------------------------------------------------------------------------\u001b[0m",
      "\u001b[1;31mTypeError\u001b[0m                                 Traceback (most recent call last)",
      "Cell \u001b[1;32mIn[3], line 1\u001b[0m\n\u001b[1;32m----> 1\u001b[0m \u001b[38;5;124;43m'\u001b[39;49m\u001b[38;5;124;43m5\u001b[39;49m\u001b[38;5;124;43m'\u001b[39;49m\u001b[38;5;241;43m+\u001b[39;49m\u001b[43m \u001b[49m\u001b[38;5;241;43m5\u001b[39;49m\n",
      "\u001b[1;31mTypeError\u001b[0m: can only concatenate str (not \"int\") to str"
     ]
    }
   ],
   "source": [
    "'5'+ 5"
   ]
  },
  {
   "cell_type": "code",
   "execution_count": 4,
   "id": "major-prince",
   "metadata": {},
   "outputs": [
    {
     "data": {
      "text/plain": [
       "(140721428822344, 140721428822344, 140721428822344)"
      ]
     },
     "execution_count": 4,
     "metadata": {},
     "output_type": "execute_result"
    }
   ],
   "source": [
    "import sys\n",
    "x = 50\n",
    "y = 50\n",
    "z = x\n",
    "id(x) ,id(y), id(z)"
   ]
  },
  {
   "cell_type": "code",
   "execution_count": 5,
   "id": "compressed-secondary",
   "metadata": {},
   "outputs": [
    {
     "data": {
      "text/plain": [
       "(2121521098112, 140721428822344, 140721428822344)"
      ]
     },
     "execution_count": 5,
     "metadata": {},
     "output_type": "execute_result"
    }
   ],
   "source": [
    "a = [50, 50]\n",
    "id(a), id(a[0]), id(a[1])"
   ]
  },
  {
   "cell_type": "code",
   "execution_count": 7,
   "id": "interesting-uncle",
   "metadata": {},
   "outputs": [
    {
     "name": "stdout",
     "output_type": "stream",
     "text": [
      "[0, 1, 2, 3, 4]\n",
      "[0, 10, 11, 2, 3, 4]\n",
      "[0, 20, 21, 23, 10, 11, 2, 3, 4]\n",
      "[0, 11, 2, 3, 4]\n",
      "(0, 0)\n",
      "(1, 11)\n",
      "(2, 2)\n",
      "(3, 3)\n",
      "(4, 4)\n",
      "[0, 2, 3, 4, 11]\n",
      "[0, 2, 3, 4, 11]\n",
      "8\n",
      "test1\n",
      "(0, 1)\n",
      "(1, ['test1', 'test2'])\n",
      "(2, [7, 8])\n",
      "(3, 10)\n"
     ]
    }
   ],
   "source": [
    "L = list(range(5))\n",
    "print(L)\n",
    "L[1:2] = [10, 11]\n",
    "print(L)\n",
    "L[1:1] = [20, 21, 23]\n",
    "print(L)\n",
    "L[1:5]  = []\n",
    "print(L)\n",
    "for x in enumerate(L):\n",
    "    print(x)\n",
    "L.sort()\n",
    "print(L)  \n",
    "L1 = sorted(L)\n",
    "print(L1)\n",
    "\n",
    "l = [1, ['test1', 'test2'], [7, 8], 10]\n",
    "print(l[2][1])\n",
    "print(l[1][0])\n",
    "for x in enumerate(l):\n",
    "    print(x)"
   ]
  },
  {
   "cell_type": "code",
   "execution_count": 8,
   "id": "vulnerable-stranger",
   "metadata": {},
   "outputs": [
    {
     "name": "stdout",
     "output_type": "stream",
     "text": [
      "0 ('1', 'one')\n",
      "1 ('2', 'two')\n",
      "2 ('3', 'three')\n"
     ]
    }
   ],
   "source": [
    "seq1 = ['1', '2', '3']\n",
    "seq2 = ['one', 'two', 'three']\n",
    "for (a, b) in enumerate(zip(seq1, seq2)):\n",
    "    print(a, b)"
   ]
  },
  {
   "cell_type": "code",
   "execution_count": 9,
   "id": "e56c1edb",
   "metadata": {},
   "outputs": [
    {
     "name": "stdout",
     "output_type": "stream",
     "text": [
      "2121520757824\n",
      "{'engleza': [5, 6], 'matematica': [7, 7, 8], 'fizica': [8, 9], 'geografie': 9}\n",
      "2121520757824\n",
      "['engleza', 'matematica', 'fizica', 'geografie', 'chimie']\n",
      "[[5, 6, 7], [7, 7, 8], [10, 10, 10], 9, [5, 6, 5]]\n",
      "{'engleza': [5, 6, 7], 'matematica': [7, 7, 8], 'fizica': [10, 10, 10], 'geografie': 9, 'chimie': [5, 6, 5]}\n",
      "{'engleza': [5, 6, 7], 'matematica': [7, 7, 8], 'geografie': 9, 'chimie': [5, 6, 5]}\n"
     ]
    }
   ],
   "source": [
    "D = {'engleza':[5,6], 'matematica':[7,7,8], 'fizica':[8,9], 'geografie':9}\n",
    "print(id(D))\n",
    "print(D)\n",
    "D.update({'chimie':[5,6,5]})\n",
    "D.update({'fizica':[10,10,10]})\n",
    "D['engleza'] = [5,6,7]\n",
    "print(id(D))\n",
    "\n",
    "print(list(D.keys()))\n",
    "print(list(D.values()))\n",
    "D.get('fizica')\n",
    "print(D)\n",
    "D.pop('fizica')\n",
    "print(D)"
   ]
  },
  {
   "cell_type": "code",
   "execution_count": 11,
   "id": "harmful-analyst",
   "metadata": {},
   "outputs": [
    {
     "name": "stdout",
     "output_type": "stream",
     "text": [
      "S t upid\n",
      "St upid\n",
      "St upid upid\n"
     ]
    },
    {
     "ename": "ValueError",
     "evalue": "too many values to unpack (expected 3)",
     "output_type": "error",
     "traceback": [
      "\u001b[1;31m---------------------------------------------------------------------------\u001b[0m",
      "\u001b[1;31mValueError\u001b[0m                                Traceback (most recent call last)",
      "Cell \u001b[1;32mIn[11], line 8\u001b[0m\n\u001b[0;32m      6\u001b[0m (a, b, c) \u001b[38;5;241m=\u001b[39m string[:\u001b[38;5;241m2\u001b[39m], string[\u001b[38;5;241m2\u001b[39m:], string[\u001b[38;5;241m2\u001b[39m:]\n\u001b[0;32m      7\u001b[0m \u001b[38;5;28mprint\u001b[39m(a,b,c)\n\u001b[1;32m----> 8\u001b[0m a, b, c \u001b[38;5;241m=\u001b[39m string\n\u001b[0;32m      9\u001b[0m \u001b[38;5;28mprint\u001b[39m(a,b,c)\n",
      "\u001b[1;31mValueError\u001b[0m: too many values to unpack (expected 3)"
     ]
    }
   ],
   "source": [
    "string = 'Stupid'\n",
    "(a, b), c = string[:2], string[2:]\n",
    "print(a,b,c)\n",
    "(a, b) = string[:2], string[2:]\n",
    "print(a,b)\n",
    "(a, b, c) = string[:2], string[2:], string[2:]\n",
    "print(a,b,c)\n",
    "a, *b, c = string\n",
    "print(a,b,c)"
   ]
  },
  {
   "cell_type": "code",
   "execution_count": 12,
   "id": "373aebe7",
   "metadata": {},
   "outputs": [
    {
     "name": "stdout",
     "output_type": "stream",
     "text": [
      "[100, 101, 102, 103, 104, 105, 106, 107, 108, 109]\n",
      "[100, 101, 102, 103, 104, 105, 106, 107, 108, 109, 10, 11, 12, 13, 14, 15, 16, 17, 18, 19]\n"
     ]
    }
   ],
   "source": [
    "L = list(range(20))\n",
    "L = [x + 100 for x in L if x < 10]\n",
    "print(L)\n",
    "L = list(range(20))\n",
    "L = [x + 100 if x < 10 else x for x in L]\n",
    "print(L)\n"
   ]
  },
  {
   "cell_type": "code",
   "execution_count": 13,
   "id": "bulgarian-vehicle",
   "metadata": {},
   "outputs": [
    {
     "data": {
      "text/plain": [
       "0.22802410000076634"
      ]
     },
     "execution_count": 13,
     "metadata": {},
     "output_type": "execute_result"
    }
   ],
   "source": [
    "import timeit\n",
    "timeit.timeit('[].append(abs(x) for x in list(range(100000)))', number=100)"
   ]
  },
  {
   "cell_type": "code",
   "execution_count": 14,
   "id": "contained-tragedy",
   "metadata": {},
   "outputs": [
    {
     "name": "stdout",
     "output_type": "stream",
     "text": [
      "3.11.2 (tags/v3.11.2:878ead1, Feb  7 2023, 16:38:35) [MSC v.1934 64 bit (AMD64)]\n",
      "forLoop  : 0.47548 \n",
      "listComp : 0.34462 \n",
      "mapCall  : 0.19281 \n",
      "genExpr  : 0.59923 \n",
      "genFunc  : 0.64614 \n"
     ]
    }
   ],
   "source": [
    "import sys, timer # Import timer functions\n",
    "reps = 100000\n",
    "repslist = list(range(reps)) \n",
    "\n",
    "def forLoop():\n",
    "    res = []\n",
    "    for x in repslist:\n",
    "        res.append(abs(x))\n",
    "    return res\n",
    "\n",
    "def listComp():\n",
    "    return [abs(x) for x in repslist]\n",
    "\n",
    "def mapCall():\n",
    "    return list(map(abs, repslist)) # Use list() here in 3.X only!\n",
    "    # return map(abs, repslist)\n",
    "\n",
    "def genExpr():\n",
    "    return list(abs(x) for x in repslist) # list() required to force results\n",
    "\n",
    "def genFunc():\n",
    "    def gen():\n",
    "        for x in repslist:\n",
    "            yield abs(x)\n",
    "    return list(gen()) # list() required to force results\n",
    "\n",
    "print(sys.version)\n",
    "for test in (forLoop, listComp, mapCall, genExpr, genFunc):\n",
    "    (bestof, (total, result)) = timer.bestoftotal(5, 100, test)\n",
    "    print ('%-9s: %.5f ' %\n",
    "    (test.__name__, bestof))"
   ]
  }
 ],
 "metadata": {
  "kernelspec": {
   "display_name": "Python 3 (ipykernel)",
   "language": "python",
   "name": "python3"
  },
  "language_info": {
   "codemirror_mode": {
    "name": "ipython",
    "version": 3
   },
   "file_extension": ".py",
   "mimetype": "text/x-python",
   "name": "python",
   "nbconvert_exporter": "python",
   "pygments_lexer": "ipython3",
   "version": "3.11.2"
  }
 },
 "nbformat": 4,
 "nbformat_minor": 5
}
