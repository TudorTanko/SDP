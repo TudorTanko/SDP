{
 "cells": [
  {
   "cell_type": "code",
   "execution_count": null,
   "id": "bc858ec4",
   "metadata": {},
   "outputs": [],
   "source": [
    "import array\n",
    "import math\n",
    "L = list(range(10))\n",
    "A = array.array('i', L)\n",
    "print(A)\n",
    "A[2] = 10\n",
    "print(A)\n",
    "A[3] = 3.5"
   ]
  },
  {
   "cell_type": "code",
   "execution_count": null,
   "id": "411a33a3",
   "metadata": {},
   "outputs": [],
   "source": [
    "A1 = np.zeros(10, dtype=int)\n",
    "A2 = np.ones((3, 5), dtype=float)\n",
    "A3 = np.random.random((3, 3))\n",
    "A4 = np.random.randint(10, size=(2, 3, 4))\n",
    "print(A1), print (A2)\n",
    "print(A3)\n",
    "print(A4)\n"
   ]
  },
  {
   "cell_type": "code",
   "execution_count": null,
   "id": "growing-continent",
   "metadata": {},
   "outputs": [],
   "source": [
    "import numpy as np\n",
    "x = np.array([range(i, i + 3) for i in [2, 4, 6]]) \n",
    "print(x)\n",
    "print(x.ndim, x.shape, x.dtype)"
   ]
  },
  {
   "cell_type": "code",
   "execution_count": null,
   "id": "boxed-format",
   "metadata": {},
   "outputs": [],
   "source": [
    "x1 = np.array(range(10))\n",
    "print(x1)\n",
    "xr = x1.reshape((2, 5))\n",
    "print(x1.ctypes.data, xr.ctypes.data)\n",
    "print(id(x1[0].data), id(xr[0,0].data))\n",
    "print(id(x1.data), id(xr.data))\n",
    "xr[1,1] = 20\n",
    "xr[:,3] = [11, 11]  \n",
    "xc = x1[::2].copy()\n",
    "print(x1.ctypes.data, xc.ctypes.data)\n",
    "xc[1] = 100\n",
    "print(xr)\n",
    "print(xc)\n",
    "print(x1)\n",
    "x1 is xr"
   ]
  },
  {
   "cell_type": "code",
   "execution_count": null,
   "id": "c41dbd9c",
   "metadata": {},
   "outputs": [],
   "source": [
    "x1 = np.array(range(20))\n",
    "x11, x12, x13 = np.split(x1, [3, 6]) \n",
    "print(x11), print(x12), print(x13)\n",
    "x14 = np.concatenate((x11, x13))\n",
    "print(x14)\n",
    "x15 = np.stack ((x11, x12), axis = 1)\n",
    "print(x15)\n",
    "print(x1.ctypes.data, x11.ctypes.data, x12.ctypes.data, x15.ctypes.data)\n"
   ]
  },
  {
   "cell_type": "code",
   "execution_count": null,
   "id": "wicked-polyester",
   "metadata": {},
   "outputs": [],
   "source": [
    "import timeit\n",
    "nr = 1000000\n",
    "values = np.random.randint(1, 10, size=nr)\n",
    "y = np.zeros(2*nr)\n",
    "print(timeit.timeit(\"np.array([2**xi for xi in values])\", globals=globals(), number = 100))\n",
    "print(timeit.timeit(\"np.power(2, values)\", globals=globals(), number = 100))\n",
    "print(timeit.timeit(\"2**values\", globals=globals(), number = 100))\n",
    "print(timeit.timeit(\"np.power(3, values, out = y[::2])\", globals=globals(), number = 100))\n",
    "print(timeit.timeit(\"y[::2] = 3**values\", globals=globals(), number = 100))"
   ]
  },
  {
   "cell_type": "code",
   "execution_count": null,
   "id": "numeric-ready",
   "metadata": {},
   "outputs": [],
   "source": [
    "import numpy as np\n",
    "import tracemalloc\n",
    "np.random.seed(0)\n",
    "nr = 1000000\n",
    "values = np.random.randint(1, 10, size=nr)\n",
    "y = np.zeros(2*nr)\n",
    "tracemalloc.start()\n",
    "np.power(2, values, out = y[::2])\n",
    "first_size, first_peak = tracemalloc.get_traced_memory()\n",
    "tracemalloc.clear_traces()\n",
    "y[::2] = 2**values\n",
    "second_size, second_peak = tracemalloc.get_traced_memory()\n",
    "print(f\"size: {first_size}, peak: {first_peak}\")\n",
    "print(f\"size: {second_size}, peak: {second_peak}\")\n",
    "tracemalloc.stop()\n",
    "\n"
   ]
  },
  {
   "cell_type": "code",
   "execution_count": null,
   "id": "035f8ce4",
   "metadata": {},
   "outputs": [],
   "source": [
    "import numpy as np\n",
    "import tracemalloc\n",
    "np.random.seed(0)\n",
    "nr = 1000000\n",
    "values = np.random.randint(1, 10, size=nr)\n",
    "tracemalloc.start()\n",
    "yy= np.array([2**xi for xi in values])\n",
    "yy_size, yy_peak = tracemalloc.get_traced_memory()\n",
    "tracemalloc.stop()\n",
    "print(f\"size: {yy_size}, peak: {yy_peak}\")\n"
   ]
  },
  {
   "cell_type": "code",
   "execution_count": null,
   "id": "million-superintendent",
   "metadata": {},
   "outputs": [],
   "source": [
    "values = np.random.randint(1, 100, size=100000)\n",
    "print(timeit.timeit(\"sum(values)\", globals=globals(), number = 100))\n",
    "print(timeit.timeit(\"np.add.reduce(values)\", globals=globals(), number = 100))\n",
    "print(timeit.timeit(\"np.sum(values)\", globals=globals(), number = 100))"
   ]
  },
  {
   "cell_type": "code",
   "execution_count": null,
   "id": "e9fb3550",
   "metadata": {},
   "outputs": [],
   "source": [
    "values = np.random.rand(10,1000)\n",
    "values[1, 100] = np.nan\n",
    "s1 = np.mean(values, axis = 1)\n",
    "print(s1)\n",
    "s1 = np.nanmean(values, axis = 1)\n",
    "print(s1)"
   ]
  },
  {
   "cell_type": "code",
   "execution_count": null,
   "id": "3d5c5c8a",
   "metadata": {},
   "outputs": [],
   "source": [
    "x = np.random.randint(1, 10, size=10)\n",
    "print(x), print((2 * x) == (x ** 2) )\n",
    "print(np.count_nonzero(x < 6))\n",
    "print(np.any(x < 4))\n",
    "print(np.all(x < 8))"
   ]
  },
  {
   "cell_type": "code",
   "execution_count": null,
   "id": "ed202cd1",
   "metadata": {},
   "outputs": [],
   "source": [
    "x = np.random.randint(1, 10, size=(2,10))\n",
    "print(x)\n",
    "ind = np.array((x>7).nonzero())\n",
    "x[x>7] = 0\n",
    "print (ind), print(x)\n",
    "print(np.sort(x))"
   ]
  },
  {
   "cell_type": "code",
   "execution_count": null,
   "id": "helpful-special",
   "metadata": {},
   "outputs": [],
   "source": [
    "x = np.array([1, 1, 1, 1, 1, 1])\n",
    "i = [2, 3, 3, 4, 4, 4]\n",
    "x[i] += 1\n",
    "print(x)\n"
   ]
  }
 ],
 "metadata": {
  "celltoolbar": "Slideshow",
  "kernelspec": {
   "display_name": "Python 3 (ipykernel)",
   "language": "python",
   "name": "python3"
  },
  "language_info": {
   "codemirror_mode": {
    "name": "ipython",
    "version": 3
   },
   "file_extension": ".py",
   "mimetype": "text/x-python",
   "name": "python",
   "nbconvert_exporter": "python",
   "pygments_lexer": "ipython3",
   "version": "3.11.2"
  }
 },
 "nbformat": 4,
 "nbformat_minor": 5
}
